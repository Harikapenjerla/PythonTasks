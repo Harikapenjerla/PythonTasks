{
 "cells": [
  {
   "cell_type": "code",
   "execution_count": 1,
   "metadata": {},
   "outputs": [
    {
     "name": "stdout",
     "output_type": "stream",
     "text": [
      "[24, 'hello', (6+9j), 7.32, 5, 'world', (5+1j), 5.2, 659, 'hi'] <class 'list'>\n"
     ]
    }
   ],
   "source": [
    "#Create a list of 10 elements of four different data types like int, string, complex and float.\n",
    "x = [24,\"hello\",6+9j,7.32,5,\"world\",5+1j,5.2,659,\"hi\"]\n",
    "print(x,type(x))\n",
    "\n",
    "\n"
   ]
  },
  {
   "cell_type": "code",
   "execution_count": 13,
   "metadata": {},
   "outputs": [
    {
     "name": "stdout",
     "output_type": "stream",
     "text": [
      "[10, 20, 30, 40, 50]\n",
      "[10, 20, 30, 40, 50]\n"
     ]
    }
   ],
   "source": [
    "#Create a list of size 5 and execute the slicing structure\n",
    "# Initialize list\n",
    "x = [10,20,30,40,50]\n",
    "print(x)\n",
    "print(x[0:5])"
   ]
  },
  {
   "cell_type": "code",
   "execution_count": 28,
   "metadata": {},
   "outputs": [
    {
     "name": "stdout",
     "output_type": "stream",
     "text": [
      "Multiply:  12 \n",
      " Sum:  7\n"
     ]
    }
   ],
   "source": [
    "#Write a program to get the sum and multiply of all the items in a given list.\n",
    "import numpy\n",
    "list1 = [2, 2, 3]\n",
    "Multiply = numpy.prod(list1)\n",
    "Addition = sum(list1)\n",
    "print(\"Multiply: \",Multiply, '\\n', \"Sum: \",Addition)"
   ]
  },
  {
   "cell_type": "code",
   "execution_count": 30,
   "metadata": {},
   "outputs": [
    {
     "name": "stdout",
     "output_type": "stream",
     "text": [
      "Largest Number:  57489 \n",
      " Smallest Number:  2\n"
     ]
    }
   ],
   "source": [
    "#Find the largest and smallest number from a given list.\n",
    "list = [12,258,6597,23,57489,2587,65,78,2,5896]\n",
    "print(\"Largest Number: \",max(list), '\\n', \"Smallest Number: \", min(list))"
   ]
  },
  {
   "cell_type": "code",
   "execution_count": 31,
   "metadata": {},
   "outputs": [
    {
     "name": "stdout",
     "output_type": "stream",
     "text": [
      "[6597, 23, 57489, 2587, 65]\n"
     ]
    }
   ],
   "source": [
    "#Create a new list which contains the specified numbers after removing the even numbers from a predefined list.\n",
    "list = [12,258,6597,23,57489,2587,65,78,2,5896]\n",
    "list =  [x for x in list if x%2!=0]\n",
    "print(list)"
   ]
  },
  {
   "cell_type": "code",
   "execution_count": 61,
   "metadata": {},
   "outputs": [
    {
     "name": "stdout",
     "output_type": "stream",
     "text": [
      "[1, 4, 9, 16, 25]\n",
      "[676, 729, 784, 841, 900]\n"
     ]
    }
   ],
   "source": [
    "#Create a list of elements such that it contains the squares of the first and last 5 elements between 1 and30 (both included).\n",
    "def samples():\n",
    "    l = []\n",
    "    for i in range(1,31):\n",
    "        l.append(i**2)\n",
    "    print(l[:5])\n",
    "    print(l[-5:])\n",
    "\n",
    "samples()"
   ]
  },
  {
   "cell_type": "code",
   "execution_count": 62,
   "metadata": {},
   "outputs": [
    {
     "name": "stdout",
     "output_type": "stream",
     "text": [
      "[1, 3, 5, 7, 9, 2, 4, 6, 8]\n"
     ]
    }
   ],
   "source": [
    "#Write a program to replace the last element in a list with another list.\n",
    "#Sample input: [1,3,5,7,9,10], [2,4,6,8]\n",
    "#Expected output: [1,3,5,7,9,2,4,6,8]\n",
    "num1 = [1,3,5,7,9,10]\n",
    "num2 = [2,4,6,8]\n",
    "num1[-1:] = num2\n",
    "print(num1)"
   ]
  },
  {
   "cell_type": "code",
   "execution_count": 72,
   "metadata": {
    "scrolled": true
   },
   "outputs": [
    {
     "name": "stdout",
     "output_type": "stream",
     "text": [
      "Concatenate dictionary:\n",
      "{1: 10, 2: 20, 3: 30, 4: 40}\n"
     ]
    }
   ],
   "source": [
    "#Create a new dictionary by concatenating the following two dictionaries\n",
    "#Sample input: a={1:10,2:20} b={3:30,4:40}\n",
    "#Expected output: {1:10,2:20,3:30,4:40}\n",
    "a={1:10,2:20}\n",
    "b={3:30,4:40}\n",
    "a.update(b)\n",
    "print('Concatenate dictionary:')\n",
    "print(a)"
   ]
  },
  {
   "cell_type": "code",
   "execution_count": 73,
   "metadata": {},
   "outputs": [
    {
     "name": "stdout",
     "output_type": "stream",
     "text": [
      "Give number: 5\n",
      "{1: 1, 2: 4, 3: 9, 4: 16, 5: 25}\n"
     ]
    }
   ],
   "source": [
    "#Create a dictionary that contain numbers in the form(x:x*x) where x takes all the values between 1 and n(both 1 and n included).\n",
    "n=int(input(\"Give number: \"))\n",
    "d = dict()\n",
    "\n",
    "for x in range(1,n+1):\n",
    "    d[x]=x*x\n",
    "\n",
    "print(d)"
   ]
  },
  {
   "cell_type": "code",
   "execution_count": 76,
   "metadata": {},
   "outputs": [
    {
     "name": "stdout",
     "output_type": "stream",
     "text": [
      "Input some comma seprated numbers : 2,9,5,64\n",
      "List :  ['2', '9', '5', '64']\n",
      "Tuple :  ('2', '9', '5', '64')\n"
     ]
    }
   ],
   "source": [
    "#Write a program which accepts a sequence of comma-separated numbers from console and generates a list and a tuple which contains every number in the form of string.\n",
    "User_Input = input(\"Input some comma seprated numbers : \")\n",
    "list = User_Input.split(\",\")\n",
    "tuple = tuple(list)\n",
    "print('List : ',list)\n",
    "print('Tuple : ',tuple)"
   ]
  },
  {
   "cell_type": "code",
   "execution_count": null,
   "metadata": {},
   "outputs": [],
   "source": []
  }
 ],
 "metadata": {
  "kernelspec": {
   "display_name": "Python 3",
   "language": "python",
   "name": "python3"
  },
  "language_info": {
   "codemirror_mode": {
    "name": "ipython",
    "version": 3
   },
   "file_extension": ".py",
   "mimetype": "text/x-python",
   "name": "python",
   "nbconvert_exporter": "python",
   "pygments_lexer": "ipython3",
   "version": "3.7.4"
  }
 },
 "nbformat": 4,
 "nbformat_minor": 2
}
