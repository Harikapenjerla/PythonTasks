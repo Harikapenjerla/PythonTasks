{
 "cells": [
  {
   "cell_type": "code",
   "execution_count": 6,
   "metadata": {},
   "outputs": [
    {
     "name": "stdout",
     "output_type": "stream",
     "text": [
      "Uppercase element is: ['H', 'W', 'E', 'A']\n"
     ]
    }
   ],
   "source": [
    "#Write a program in Python to find out the character in a string which is uppercase using list comprehension.\n",
    "UserInput =\"Hello World ExAmple\"\n",
    "case=[i for i in UserInput if i.isupper()]\n",
    "print(\"Uppercase element is:\",case)"
   ]
  },
  {
   "cell_type": "code",
   "execution_count": 7,
   "metadata": {},
   "outputs": [
    {
     "name": "stdout",
     "output_type": "stream",
     "text": [
      "{'Smit': 'CSE', 'Jaya': 'Networking', 'Rayyan': 'Operating System'}\n"
     ]
    }
   ],
   "source": [
    "#Write a program to construct a dictionary from the two lists containing the names of students and their corresponding subjects. The dictionary should map the students with their respective subjects.\n",
    "#Let’s see how to do this using for loops and dictionary comprehension.\n",
    "#HINT - Use Zip function also\n",
    "#Sample input: students = ['Smit', 'Jaya', 'Rayyan'] subjects = ['CSE', 'Networking', 'Operating System']\n",
    "#Expected output: {‘Smit’ : ’CSE’ , ’Jaya’ : ’Networking’ , ’Rayyan’ : ’Operating System’}\n",
    "\n",
    "students = ['Smit', 'Jaya', 'Rayyan'] \n",
    "subjects = ['CSE', 'Networking', 'Operating System']\n",
    "dictionary={i:j for i,j in zip(students,subjects)}\n",
    "print(dictionary)"
   ]
  },
  {
   "cell_type": "code",
   "execution_count": 8,
   "metadata": {},
   "outputs": [
    {
     "name": "stdout",
     "output_type": "stream",
     "text": [
      "g\n",
      "n\n",
      "i\n",
      "n\n",
      "i\n",
      "a\n",
      "r\n",
      "T\n",
      " \n",
      "d\n",
      "d\n",
      "a\n",
      "t\n",
      "l\n",
      "u\n",
      "s\n",
      "n\n",
      "o\n",
      "C\n"
     ]
    }
   ],
   "source": [
    "#Write a program in Python using generators to reverse the string.\n",
    "#Input String = “Consultadd Training”\n",
    "def reverse_string(my_str):\n",
    "    length = len(my_str)\n",
    "    for i in range(length-1, -1, -1):\n",
    "        yield my_str[i]\n",
    "\n",
    "# using for loop to reverse the string\n",
    "for char in reverse_string(\"Consultadd Training\"):\n",
    "    print(char)"
   ]
  },
  {
   "cell_type": "code",
   "execution_count": 14,
   "metadata": {},
   "outputs": [
    {
     "name": "stdout",
     "output_type": "stream",
     "text": [
      "==============================\n",
      "Hello World!\n",
      "==============================\n"
     ]
    }
   ],
   "source": [
    "#Write an example on decorators.\n",
    "def function_decorator(func):\n",
    "    def wrapped_func():\n",
    "        print('=' * 30)\n",
    "        func()\n",
    "        print('=' * 30)\n",
    "    return wrapped_func\n",
    "@function_decorator\n",
    "def test():\n",
    "    print('Hello World!')\n",
    "test()\n",
    "\n",
    "#reference:https://towardsdatascience.com/the-simplest-tutorial-for-python-decorator-dadbf8f20b0f"
   ]
  },
  {
   "cell_type": "code",
   "execution_count": 10,
   "metadata": {},
   "outputs": [],
   "source": []
  },
  {
   "cell_type": "code",
   "execution_count": null,
   "metadata": {},
   "outputs": [],
   "source": []
  },
  {
   "cell_type": "code",
   "execution_count": null,
   "metadata": {},
   "outputs": [],
   "source": []
  }
 ],
 "metadata": {
  "kernelspec": {
   "display_name": "Python 3",
   "language": "python",
   "name": "python3"
  },
  "language_info": {
   "codemirror_mode": {
    "name": "ipython",
    "version": 3
   },
   "file_extension": ".py",
   "mimetype": "text/x-python",
   "name": "python",
   "nbconvert_exporter": "python",
   "pygments_lexer": "ipython3",
   "version": "3.7.4"
  }
 },
 "nbformat": 4,
 "nbformat_minor": 2
}
