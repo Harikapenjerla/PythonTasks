{
 "cells": [
  {
   "cell_type": "code",
   "execution_count": 5,
   "metadata": {},
   "outputs": [
    {
     "name": "stdout",
     "output_type": "stream",
     "text": [
      "dlroW olleH\n"
     ]
    }
   ],
   "source": [
    "#Write a program to reverse a string.\n",
    "def function(x):\n",
    "  return x[::-1]\n",
    "\n",
    "User = function(\"Hello World\")\n",
    "\n",
    "print(User)"
   ]
  },
  {
   "cell_type": "code",
   "execution_count": 7,
   "metadata": {},
   "outputs": [
    {
     "name": "stdout",
     "output_type": "stream",
     "text": [
      "Enter string:Hello World\n",
      "The number of lowercase characters is:  8\n",
      "The number of uppercase characters is:  2\n"
     ]
    }
   ],
   "source": [
    "#Write a function that accepts a string and prints the number of uppercase letters and lowercase letters.\n",
    "User=input(\"Enter string:\")\n",
    "x1=0\n",
    "x2=0\n",
    "for i in User:\n",
    "      if(i.islower()):\n",
    "            x1=x1+1\n",
    "      elif(i.isupper()):\n",
    "            x2=x2+1\n",
    "print(\"The number of lowercase characters is: \", x1)\n",
    "\n",
    "print(\"The number of uppercase characters is: \", x2)\n"
   ]
  },
  {
   "cell_type": "code",
   "execution_count": 8,
   "metadata": {},
   "outputs": [
    {
     "name": "stdout",
     "output_type": "stream",
     "text": [
      "[1, 2, 3, 4, 5]\n"
     ]
    }
   ],
   "source": [
    "#Create a function that takes a list and returns a new list with unique elements of the first list.\n",
    "def userlist(l):\n",
    "  x = []\n",
    "  for a in l:\n",
    "    if a not in x:\n",
    "      x.append(a)\n",
    "  return x\n",
    "\n",
    "print(unique_list([20,33,54,20,55,33,218,65,86]))\n"
   ]
  },
  {
   "cell_type": "code",
   "execution_count": 17,
   "metadata": {},
   "outputs": [
    {
     "name": "stdout",
     "output_type": "stream",
     "text": [
      "Enter input: this-is-awesome\n",
      "awesome-is-this\n"
     ]
    }
   ],
   "source": [
    "#Write a program that accepts a hyphen-separated sequence of words as input and prints the words in a hyphen-separated sequence after sorting them alphabetically\n",
    "User =input(\"Enter input: \" )\n",
    "l=User.split('-')\n",
    "l.sort()\n",
    "final = '-'.join(l)\n",
    "print(final)\n"
   ]
  },
  {
   "cell_type": "code",
   "execution_count": 2,
   "metadata": {},
   "outputs": [
    {
     "name": "stdout",
     "output_type": "stream",
     "text": [
      "hello world\n",
      "this is python\n",
      "\n",
      "HELLO WORLD\n",
      "THIS IS PYTHON\n"
     ]
    }
   ],
   "source": [
    "#Write a program that accepts a sequence of lines as input and prints the lines after making all characters in the sentence capitalized.\n",
    "lines = []\n",
    "while True:\n",
    "    s = input()\n",
    "    if s:\n",
    "        lines.append(s.upper())\n",
    "    else:\n",
    "        break;\n",
    "\n",
    "for s in lines:\n",
    "    print(s)\n",
    "    "
   ]
  },
  {
   "cell_type": "code",
   "execution_count": 5,
   "metadata": {},
   "outputs": [
    {
     "name": "stdout",
     "output_type": "stream",
     "text": [
      "Sum =  140\n"
     ]
    }
   ],
   "source": [
    "#Define a function that can receive two integral numbers in string form and compute their sum and print it in the console.\n",
    "def Sum (a,b):\n",
    "    s = int(a) + int(b)\n",
    "    return s \n",
    "num1 = \"60\"\n",
    "num2 = \"80\"\n",
    "\n",
    "\n",
    "sum = Sum (num1, num2)\n",
    "\n",
    "print (\"Sum = \", sum)"
   ]
  },
  {
   "cell_type": "code",
   "execution_count": 20,
   "metadata": {},
   "outputs": [
    {
     "name": "stdout",
     "output_type": "stream",
     "text": [
      "Hi\n",
      "World\n",
      "Output: \n",
      "World\n"
     ]
    }
   ],
   "source": [
    "#Define a function that can accept two strings as input and print the string with the maximum length in the console. If two strings have the same length, then the function should print both the strings line by line.\n",
    "def longer(s1,s2):\n",
    "    len1 = len(s1)\n",
    "    len2 = len(s2)\n",
    "    if len1 > len2:\n",
    "        print(s1)\n",
    "    elif len1 < len2:\n",
    "        print(s2)\n",
    "    else:\n",
    "        print(s1)\n",
    "        print(s2)\n",
    "\n",
    "s1=input()\n",
    "s2=input()\n",
    "print(\"Output: \") \n",
    "longer(s1,s2)"
   ]
  },
  {
   "cell_type": "code",
   "execution_count": 84,
   "metadata": {},
   "outputs": [
    {
     "name": "stdout",
     "output_type": "stream",
     "text": [
      "(1, 4, 9, 16, 25, 36, 49, 64, 81, 100, 121, 144, 169, 196, 225, 256, 289, 324, 361, 400)\n"
     ]
    }
   ],
   "source": [
    "#Define a function which can generate and print a tuple where the values are square of numbers between 1 and 20 (both 1 and 20 included).\n",
    "def UserValue(a,b):\n",
    "    l = []\n",
    "    for i in range(a,b+1):\n",
    "        l.append(i*i)\n",
    "    return(l)\n",
    "        \n",
    "print(tuple(UserValue(1,20)))\n"
   ]
  },
  {
   "cell_type": "code",
   "execution_count": 94,
   "metadata": {},
   "outputs": [
    {
     "name": "stdout",
     "output_type": "stream",
     "text": [
      "0  EVEN\n",
      "1  ODD\n",
      "2  EVEN\n",
      "3  ODD\n"
     ]
    }
   ],
   "source": [
    "#Write a function called showNumbers that takes a parameter called limit. It should print all the numbers between 0 and limit with a label to identify the even and odd numbers.\n",
    "def showNumbers(limit):\n",
    "    for i in range(0,limit+1):\n",
    "        if(i%2==0):\n",
    "            print(i,\" EVEN\")\n",
    "        else:\n",
    "            print(i,\" ODD\")\n",
    "\n",
    "showNumbers(3)"
   ]
  },
  {
   "cell_type": "code",
   "execution_count": 107,
   "metadata": {},
   "outputs": [
    {
     "name": "stdout",
     "output_type": "stream",
     "text": [
      "[2, 4, 6, 8, 10, 12, 14, 16, 18, 20]\n"
     ]
    }
   ],
   "source": [
    "#Write a program which uses filter() to make a list whose elements are even numbers between 1 and 20 (both included)\n",
    "listdef = list(range(1,21))\n",
    " \n",
    "def is_even(x): return x % 2 == 0\n",
    " \n",
    "Final = list(filter(is_even, listdef))\n",
    " \n",
    "# Printing output\n",
    "print(Final)"
   ]
  },
  {
   "cell_type": "code",
   "execution_count": 9,
   "metadata": {},
   "outputs": [
    {
     "name": "stdout",
     "output_type": "stream",
     "text": [
      "[4, 16, 36, 64, 100]\n"
     ]
    }
   ],
   "source": [
    "#Write a program which uses map() and filter() to make a list whose elements are squares of even numbers in [1,2,3,4,5,6,7,8,9,10].\n",
    "user_i = [1,2,3,4,5,6,7,8,9,10]\n",
    " \n",
    "even = map(lambda x: x**2, filter(lambda x: x%2==0, user_i))\n",
    " \n",
    "print(list(even))"
   ]
  },
  {
   "cell_type": "code",
   "execution_count": 11,
   "metadata": {},
   "outputs": [
    {
     "name": "stdout",
     "output_type": "stream",
     "text": [
      "dividing a number by 0\n"
     ]
    }
   ],
   "source": [
    "#Write a function to compute 5/0 and use try/except to catch the exceptions\n",
    "def user_i():\n",
    "    return 5/0\n",
    "\n",
    "try:\n",
    "    user_i()\n",
    "except ZeroDivisionError as er:\n",
    "    print(\"dividing a number by 0\")\n"
   ]
  },
  {
   "cell_type": "code",
   "execution_count": 55,
   "metadata": {},
   "outputs": [
    {
     "name": "stdout",
     "output_type": "stream",
     "text": [
      "[1, 2, 3, 4, 5, 6, 7, 8]\n"
     ]
    }
   ],
   "source": [
    "#Flatten the list using reduce().\n",
    "import operator\n",
    "from functools import reduce\n",
    "lists = [[1, 2, 3], [4, 5], [6, 7, 8]]\n",
    "joinedlist = reduce(operator.add, lists)\n",
    "print(joinedlist)  # prints [1, 2, 3, 4, 5, 6, 7, 8]"
   ]
  },
  {
   "cell_type": "code",
   "execution_count": 41,
   "metadata": {},
   "outputs": [
    {
     "name": "stdout",
     "output_type": "stream",
     "text": [
      "1505,1519,1526,1540,1547,1561,1568,1582,1589,1603,1610,1624,1631,1645,1652,1666,1673,1687,1694,1708,1715,1729,1736,1750,1757,1771,1778,1792,1799,1813,1820,1834,1841,1855,1862,1876,1883,1897,1904,1918,1925,1939,1946,1960,1967,1981,1988,2002,2009,2023,2030,2044,2051,2065,2072,2086,2093,2107,2114,2128,2135,2149,2156,2170,2177,2191,2198,2212,2219,2233,2240,2254,2261,2275,2282,2296,2303,2317,2324,2338,2345,2359,2366,2380,2387,2401,2408,2422,2429,2443,2450,2464,2471,2485,2492\n"
     ]
    }
   ],
   "source": [
    "#Write a program in Python to find the values which are not divisible by 3 but are a multiple of 7.Make sure to use only higher order functions.\n",
    "l=[]\n",
    "for x in range(1500, 2500):\n",
    "    if not(x%3==0) and (x%7==0):\n",
    "        l.append(str(x))\n",
    "print (','.join(l))"
   ]
  },
  {
   "cell_type": "code",
   "execution_count": 56,
   "metadata": {},
   "outputs": [],
   "source": [
    "#Write a program in Python to multiply the elements of a list by itself using a traditional function and pass the function to map() to complete the operation.\n"
   ]
  },
  {
   "cell_type": "code",
   "execution_count": 61,
   "metadata": {},
   "outputs": [
    {
     "name": "stdout",
     "output_type": "stream",
     "text": [
      "2\n"
     ]
    }
   ],
   "source": [
    "#What is the output of the following codes:\n",
    "def foo():\n",
    "    try:\n",
    "        return 1\n",
    "    finally:\n",
    "        return 2\n",
    "k = foo()\n",
    "print(k)\n",
    "\n"
   ]
  },
  {
   "cell_type": "code",
   "execution_count": 65,
   "metadata": {},
   "outputs": [],
   "source": [
    "def a():\n",
    "    try:\n",
    "        f(x, 4)\n",
    "    finally:\n",
    "            print('after f')\n",
    "            print('after f?')\n",
    "            a()"
   ]
  },
  {
   "cell_type": "code",
   "execution_count": 67,
   "metadata": {},
   "outputs": [
    {
     "name": "stdout",
     "output_type": "stream",
     "text": [
      "<map object at 0x0000025E5819A488>\n",
      "[4, 9, 16, 25, 36, 49, 64, 81]\n"
     ]
    }
   ],
   "source": [
    "#Write a program in Python to multiply the elements of a list by itself using a traditional function and pass the function to map() to complete the operation.\n",
    "def square(x):\n",
    "    return x*x\n",
    "list_user = [2,3,4,5,6,7,8,9]\n",
    "updated_list = map(square, list_user)\n",
    "print(updated_list)\n",
    "print(list(updated_list))"
   ]
  },
  {
   "cell_type": "code",
   "execution_count": null,
   "metadata": {},
   "outputs": [],
   "source": []
  }
 ],
 "metadata": {
  "kernelspec": {
   "display_name": "Python 3",
   "language": "python",
   "name": "python3"
  },
  "language_info": {
   "codemirror_mode": {
    "name": "ipython",
    "version": 3
   },
   "file_extension": ".py",
   "mimetype": "text/x-python",
   "name": "python",
   "nbconvert_exporter": "python",
   "pygments_lexer": "ipython3",
   "version": "3.7.4"
  }
 },
 "nbformat": 4,
 "nbformat_minor": 2
}
