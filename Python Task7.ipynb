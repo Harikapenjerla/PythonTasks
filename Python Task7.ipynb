{
 "cells": [
  {
   "cell_type": "code",
   "execution_count": 3,
   "metadata": {},
   "outputs": [
    {
     "name": "stdout",
     "output_type": "stream",
     "text": [
      "Enter the value of D to perform the operation:10,20,50\n",
      "5.773502691896258\n",
      "8.16496580927726\n",
      "12.909944487358056\n"
     ]
    }
   ],
   "source": [
    "#Write a program that calculates and prints the value according to the given formula:\n",
    "#Q= Square root of [(2*C*D)/H]\n",
    "import math\n",
    "\n",
    "D=input(\"Enter the value of D to perform the operation:\")\n",
    "D=D.split(\",\")\n",
    "C=50\n",
    "H=30\n",
    "\n",
    "for i in D:\n",
    "    sq=math.sqrt((2*C*int(i))/H)\n",
    "    print(sq)"
   ]
  },
  {
   "cell_type": "code",
   "execution_count": 5,
   "metadata": {},
   "outputs": [
    {
     "name": "stdout",
     "output_type": "stream",
     "text": [
      "25\n"
     ]
    }
   ],
   "source": [
    "#Define a class named Shape and its subclass Square. The Square class has an init function which\n",
    "#takes length as argument. Both classes have an area function which can print the area of the shape\n",
    "#where Shape’s area is 0 by default.\n",
    "from turtle import shape\n",
    "class Shape(object):\n",
    "    def __init__(self):\n",
    "        print(\"area for shape\")\n",
    "        pass\n",
    "    def area(self):\n",
    "        return 0\n",
    "\n",
    "class Square(Shape):\n",
    "    def __init__(self,length):\n",
    "        shape.__init__(self,length)\n",
    "        self.length=length\n",
    "\n",
    "    def area(self):\n",
    "        return self.length*self.length\n",
    "\n",
    "a=Square(5)\n",
    "print(a.area())"
   ]
  },
  {
   "cell_type": "code",
   "execution_count": null,
   "metadata": {},
   "outputs": [],
   "source": []
  },
  {
   "cell_type": "code",
   "execution_count": 44,
   "metadata": {},
   "outputs": [
    {
     "name": "stdout",
     "output_type": "stream",
     "text": [
      "2 -10 8\n",
      "-3 -7 10\n"
     ]
    },
    {
     "ename": "RecursionError",
     "evalue": "maximum recursion depth exceeded",
     "output_type": "error",
     "traceback": [
      "\u001b[1;31m---------------------------------------------------------------------------\u001b[0m",
      "\u001b[1;31mRecursionError\u001b[0m                            Traceback (most recent call last)",
      "\u001b[1;32m<ipython-input-44-a6c218778316>\u001b[0m in \u001b[0;36m<module>\u001b[1;34m\u001b[0m\n\u001b[0;32m     22\u001b[0m \u001b[0marr\u001b[0m \u001b[1;33m=\u001b[0m \u001b[1;33m[\u001b[0m\u001b[1;33m-\u001b[0m\u001b[1;36m25\u001b[0m\u001b[1;33m,\u001b[0m\u001b[1;33m-\u001b[0m\u001b[1;36m10\u001b[0m\u001b[1;33m,\u001b[0m\u001b[1;33m-\u001b[0m\u001b[1;36m7\u001b[0m\u001b[1;33m,\u001b[0m\u001b[1;33m-\u001b[0m\u001b[1;36m3\u001b[0m\u001b[1;33m,\u001b[0m\u001b[1;36m2\u001b[0m\u001b[1;33m,\u001b[0m\u001b[1;36m4\u001b[0m\u001b[1;33m,\u001b[0m\u001b[1;36m8\u001b[0m\u001b[1;33m,\u001b[0m\u001b[1;36m10\u001b[0m\u001b[1;33m]\u001b[0m\u001b[1;33m\u001b[0m\u001b[1;33m\u001b[0m\u001b[0m\n\u001b[0;32m     23\u001b[0m \u001b[0mn\u001b[0m \u001b[1;33m=\u001b[0m \u001b[0mlen\u001b[0m\u001b[1;33m(\u001b[0m\u001b[0marr\u001b[0m\u001b[1;33m)\u001b[0m\u001b[1;33m\u001b[0m\u001b[1;33m\u001b[0m\u001b[0m\n\u001b[1;32m---> 24\u001b[1;33m \u001b[0mi\u001b[0m \u001b[1;33m=\u001b[0m \u001b[0muser_def\u001b[0m\u001b[1;33m(\u001b[0m\u001b[0marr\u001b[0m\u001b[1;33m,\u001b[0m\u001b[0mn\u001b[0m\u001b[1;33m)\u001b[0m\u001b[1;33m\u001b[0m\u001b[1;33m\u001b[0m\u001b[0m\n\u001b[0m\u001b[0;32m     25\u001b[0m \u001b[0mprint\u001b[0m \u001b[1;33m(\u001b[0m\u001b[0mi\u001b[0m\u001b[1;33m)\u001b[0m\u001b[1;33m\u001b[0m\u001b[1;33m\u001b[0m\u001b[0m\n",
      "\u001b[1;32m<ipython-input-44-a6c218778316>\u001b[0m in \u001b[0;36m__init__\u001b[1;34m(self, arr, n)\u001b[0m\n\u001b[0;32m      5\u001b[0m \u001b[1;32mclass\u001b[0m \u001b[0muser_def\u001b[0m\u001b[1;33m:\u001b[0m\u001b[1;33m\u001b[0m\u001b[1;33m\u001b[0m\u001b[0m\n\u001b[0;32m      6\u001b[0m     \u001b[1;32mdef\u001b[0m  \u001b[0m__init__\u001b[0m\u001b[1;33m(\u001b[0m\u001b[0mself\u001b[0m\u001b[1;33m,\u001b[0m\u001b[0marr\u001b[0m\u001b[1;33m,\u001b[0m\u001b[0mn\u001b[0m\u001b[1;33m)\u001b[0m\u001b[1;33m:\u001b[0m\u001b[1;33m\u001b[0m\u001b[1;33m\u001b[0m\u001b[0m\n\u001b[1;32m----> 7\u001b[1;33m         \u001b[0muser_def\u001b[0m\u001b[1;33m.\u001b[0m \u001b[0m__init__\u001b[0m\u001b[1;33m(\u001b[0m\u001b[0mself\u001b[0m\u001b[1;33m,\u001b[0m\u001b[0marr\u001b[0m\u001b[1;33m,\u001b[0m\u001b[0mn\u001b[0m\u001b[1;33m)\u001b[0m\u001b[1;33m\u001b[0m\u001b[1;33m\u001b[0m\u001b[0m\n\u001b[0m\u001b[0;32m      8\u001b[0m         \u001b[0mfound\u001b[0m \u001b[1;33m=\u001b[0m \u001b[1;32mFalse\u001b[0m\u001b[1;33m\u001b[0m\u001b[1;33m\u001b[0m\u001b[0m\n\u001b[0;32m      9\u001b[0m     \u001b[1;32mfor\u001b[0m \u001b[0mi\u001b[0m \u001b[1;32min\u001b[0m \u001b[0mrange\u001b[0m\u001b[1;33m(\u001b[0m\u001b[0mn\u001b[0m \u001b[1;33m-\u001b[0m \u001b[1;36m1\u001b[0m\u001b[1;33m)\u001b[0m\u001b[1;33m:\u001b[0m\u001b[1;33m\u001b[0m\u001b[1;33m\u001b[0m\u001b[0m\n",
      "... last 1 frames repeated, from the frame below ...\n",
      "\u001b[1;32m<ipython-input-44-a6c218778316>\u001b[0m in \u001b[0;36m__init__\u001b[1;34m(self, arr, n)\u001b[0m\n\u001b[0;32m      5\u001b[0m \u001b[1;32mclass\u001b[0m \u001b[0muser_def\u001b[0m\u001b[1;33m:\u001b[0m\u001b[1;33m\u001b[0m\u001b[1;33m\u001b[0m\u001b[0m\n\u001b[0;32m      6\u001b[0m     \u001b[1;32mdef\u001b[0m  \u001b[0m__init__\u001b[0m\u001b[1;33m(\u001b[0m\u001b[0mself\u001b[0m\u001b[1;33m,\u001b[0m\u001b[0marr\u001b[0m\u001b[1;33m,\u001b[0m\u001b[0mn\u001b[0m\u001b[1;33m)\u001b[0m\u001b[1;33m:\u001b[0m\u001b[1;33m\u001b[0m\u001b[1;33m\u001b[0m\u001b[0m\n\u001b[1;32m----> 7\u001b[1;33m         \u001b[0muser_def\u001b[0m\u001b[1;33m.\u001b[0m \u001b[0m__init__\u001b[0m\u001b[1;33m(\u001b[0m\u001b[0mself\u001b[0m\u001b[1;33m,\u001b[0m\u001b[0marr\u001b[0m\u001b[1;33m,\u001b[0m\u001b[0mn\u001b[0m\u001b[1;33m)\u001b[0m\u001b[1;33m\u001b[0m\u001b[1;33m\u001b[0m\u001b[0m\n\u001b[0m\u001b[0;32m      8\u001b[0m         \u001b[0mfound\u001b[0m \u001b[1;33m=\u001b[0m \u001b[1;32mFalse\u001b[0m\u001b[1;33m\u001b[0m\u001b[1;33m\u001b[0m\u001b[0m\n\u001b[0;32m      9\u001b[0m     \u001b[1;32mfor\u001b[0m \u001b[0mi\u001b[0m \u001b[1;32min\u001b[0m \u001b[0mrange\u001b[0m\u001b[1;33m(\u001b[0m\u001b[0mn\u001b[0m \u001b[1;33m-\u001b[0m \u001b[1;36m1\u001b[0m\u001b[1;33m)\u001b[0m\u001b[1;33m:\u001b[0m\u001b[1;33m\u001b[0m\u001b[1;33m\u001b[0m\u001b[0m\n",
      "\u001b[1;31mRecursionError\u001b[0m: maximum recursion depth exceeded"
     ]
    }
   ],
   "source": [
    "#Create a class to find three elements that sum to zero from a set of n real numbers\n",
    "#Input array: [-25,-10,-7,-3,2,4,8,10]\n",
    "#Expected output: [[-10,2,8],[-7,-3,10]]\n",
    "\n",
    "class user_def:\n",
    "    def  __init__(self,arr,n): \n",
    "        user_def. __init__(self,arr,n)\n",
    "        found = False\n",
    "    for i in range(n - 1): \n",
    "   \n",
    "        s = set() \n",
    "        for j in range(i + 1, n): \n",
    "            x = -(arr[i] + arr[j]) \n",
    "            if x in s: \n",
    "                print(x, arr[i], arr[j]) \n",
    "                found = True\n",
    "            else: \n",
    "                s.add(arr[j]) \n",
    "    if found == False: \n",
    "        print(\"No Triplet Found\") \n",
    "\n",
    "arr = [-25,-10,-7,-3,2,4,8,10] \n",
    "n = len(arr) \n",
    "i = user_def(arr,n)\n",
    "print (i)\n"
   ]
  },
  {
   "cell_type": "code",
   "execution_count": 43,
   "metadata": {},
   "outputs": [
    {
     "name": "stdout",
     "output_type": "stream",
     "text": [
      "8 hrs and 0 mins\n",
      "480 mins\n"
     ]
    }
   ],
   "source": [
    "#Create a Time class and initialize it with hours and minutes.\n",
    "#Create a method addTime which should take two Time objects and add them.\n",
    "#E.g.- (2 hour and 50 min)+(1 hr and 20 min) is (4 hr and 10 min)\n",
    "#Create another method displayTime which should print the time.\n",
    "#Also create a method displayMinute which should display the total minutes in the Time.\n",
    "#E.g.- (1 hr 2 min) should display 62 minute.\n",
    "class Time():\n",
    "    def __init__(self,hours,minutes):\n",
    "        self.hours=hours\n",
    "        self.minutes=minutes\n",
    "        \n",
    "    def addTime(t1,t2):\n",
    "        t3=Time(0,0)\n",
    "        t3.hours =t1.hours+t2.hours\n",
    "        t3.minutes=t1.minutes+ t2.minutes\n",
    "        while t3.minutes >=60:\n",
    "            t3.hours+=1\n",
    "            t3.minutes-=60\n",
    "        return t3\n",
    "\n",
    "    def displayTime(self):\n",
    "        print(\"%d hrs and %d mins\" %(self.hours,self.minutes))\n",
    "\n",
    "    def displayMinutes(self):\n",
    "        print((self.hours*60)+self.minutes, \"mins\")\n",
    "\n",
    "i=Time(4,60)\n",
    "j=Time(1,120)\n",
    "k=Time.addTime(a,b)\n",
    "\n",
    "k.displayTime()\n",
    "k.displayMinutes()"
   ]
  },
  {
   "cell_type": "code",
   "execution_count": 121,
   "metadata": {},
   "outputs": [
    {
     "name": "stdout",
     "output_type": "stream",
     "text": [
      "Age is not valid, setting age to 0\n",
      "You are young.\n"
     ]
    }
   ],
   "source": [
    "'''5. Write a Person class with an instance variable “age” and a constructor that takes an integer as a\n",
    "parameter. The constructor must assign the integer value to the age variable after confirming the\n",
    "argument passed is not negative; if a negative argument is passed then the constructor should set\n",
    "age to 0 and print “Age is not valid, setting age to 0”. In addition, you must write the following instance\n",
    "methods:\n",
    "yearPasses() should increase age by the integer value that you are passing inside the function.\n",
    "amIOld() should perform the following conditional actions:I\n",
    "f age is between 0 and <13, print “You are young”.\n",
    "If age is >=13 and <=19 , print “You are a teenager”.\n",
    "Otherwise, print “You are old”.'''\n",
    "\n",
    "class Person:\n",
    "    age = 0\n",
    "    def __init__(self,initialAge):\n",
    "        if initialAge < 0:\n",
    "            self.age =0\n",
    "            print(\"Age is not valid, setting age to 0\")\n",
    "        else:\n",
    "            self.age = initialAge\n",
    "    def amIOld(self,initialAge):\n",
    "        if (self.age < 13 and self.age >= 0):\n",
    "            print(\"You are young.\")\n",
    "        elif self.age >= 13 and self.age < 18:\n",
    "            print(\"You are a teenager.\")\n",
    "        else:\n",
    "            print(\"You are old.\")\n",
    "\n",
    "    def yearPasses(self,initialAge):\n",
    "        self.age += 1\n",
    "ip = -1\n",
    "i=Person(ip)\n",
    "i.amIOld(ip)\n",
    "\n",
    "\n",
    "\n"
   ]
  },
  {
   "cell_type": "code",
   "execution_count": null,
   "metadata": {},
   "outputs": [],
   "source": []
  },
  {
   "cell_type": "code",
   "execution_count": null,
   "metadata": {},
   "outputs": [],
   "source": []
  },
  {
   "cell_type": "code",
   "execution_count": null,
   "metadata": {},
   "outputs": [],
   "source": []
  }
 ],
 "metadata": {
  "kernelspec": {
   "display_name": "Python 3",
   "language": "python",
   "name": "python3"
  },
  "language_info": {
   "codemirror_mode": {
    "name": "ipython",
    "version": 3
   },
   "file_extension": ".py",
   "mimetype": "text/x-python",
   "name": "python",
   "nbconvert_exporter": "python",
   "pygments_lexer": "ipython3",
   "version": "3.7.4"
  }
 },
 "nbformat": 4,
 "nbformat_minor": 2
}
