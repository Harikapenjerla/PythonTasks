{
 "cells": [
  {
   "cell_type": "code",
   "execution_count": 1,
   "metadata": {},
   "outputs": [
    {
     "name": "stdout",
     "output_type": "stream",
     "text": [
      "Enter the number-numerator:5\n",
      "Python Training\n"
     ]
    }
   ],
   "source": [
    "#Write a program in Python to perform the following operation:\n",
    "#If a number is divisible by 3 it should print “Consultadd” as a string\n",
    "#If a number is divisible by 5 it should print “Python Training” as a string\n",
    "#If a number is divisible by both 3 and 5 it should print “Consultadd - Python Training” as a string.\n",
    "#num = int(input('Enter a number:'))\n",
    "num = int(input(\"Enter the number-numerator:\"))\n",
    "\n",
    "if (num%3 == 0 and num%5 == 0):\n",
    "    print('Consultadd - Python Training')\n",
    "elif (num%5 == 0):\n",
    "    print('Python Training')\n",
    "elif(num%3 == 0):\n",
    "    print('Consultadd')\n",
    "else:\n",
    "    print('Choose Other Number')"
   ]
  },
  {
   "cell_type": "code",
   "execution_count": 2,
   "metadata": {},
   "outputs": [
    {
     "name": "stdout",
     "output_type": "stream",
     "text": [
      "Enter First Number: 1\n",
      "Enter Second Number: 2\n",
      "Enter which operation would you like to perform?\n",
      "Enter number 1 to 5 for specific operation : 5\n",
      "Enter Third Number: 2\n",
      "Enter Fourth Number: 4\n",
      "NEGATIVE: False ; 2.25\n"
     ]
    }
   ],
   "source": [
    "\"\"\"Ask user to choose the following option first:\n",
    "If User Enter 1 - Addition\n",
    "If User Enter 2 - Subtraction\n",
    "If User Enter 3 - Division\n",
    "If User Enter 4 - Multiplication\n",
    "If User Enter 5 - Average\n",
    "Ask user to enter two numbers and keep those numbers in variables num1 and num2\n",
    "respectively for the first 4 options mentioned above.\n",
    "Ask the user to enter two more numbers as first and second for calculating the average as\n",
    "soon as the user chooses an option 5.\n",
    "At the end if the answer of any operation is Negative print a statement saying “NEGATIVE”\n",
    "NOTE: At a time a user can only perform one action.\"\"\"\n",
    "\n",
    "num1 = int(input(\"Enter First Number: \"))\n",
    "num2 = int(input(\"Enter Second Number: \"))\n",
    "\n",
    "print(\"Enter which operation would you like to perform?\")\n",
    "ch = int(input(\"Enter number 1 to 5 for specific operation : \"))\n",
    "result = 0\n",
    "if ch == 1:\n",
    "    result = num1 + num2\n",
    "elif ch == 2:\n",
    "    result = num1 - num2 \n",
    "elif ch == 3:\n",
    "    result = num1 * num2\n",
    "elif ch == 4:\n",
    "    result = num1 / num2\n",
    "elif ch == 5:\n",
    "    num3 = int(input(\"Enter Third Number: \"))\n",
    "    num4 = int(input(\"Enter Fourth Number: \"))\n",
    "    result = (num1 + num2 + num3 + num4) / 4\n",
    "\n",
    "\n",
    "print(\"NEGATIVE:\",result < 0,\";\", result)\n",
    "   \n",
    "\n"
   ]
  },
  {
   "cell_type": "markdown",
   "metadata": {},
   "source": [
    "## "
   ]
  },
  {
   "cell_type": "code",
   "execution_count": 3,
   "metadata": {},
   "outputs": [
    {
     "name": "stdout",
     "output_type": "stream",
     "text": [
      "avg>a\n"
     ]
    }
   ],
   "source": [
    "a,b,c =10,20,30\n",
    "avg = (a+b+c)/3\n",
    "if(avg > a and avg > b and avg > c):\n",
    "    print(\"avg > a,b,c\")\n",
    "elif (avg > a and avg > b):\n",
    "    print(\"avg > a and > b\")\n",
    "elif (avg > a and avg > c):\n",
    "    print(\"avg > a , > c\")\n",
    "elif (avg > b and avg > c):\n",
    "    print(\"avg >b ,>c\")\n",
    "elif (avg > a):\n",
    "    print(\"avg>a\")\n",
    "elif (avg > b):\n",
    "    print(\"avg>b\")\n",
    "elif (avg > c):\n",
    "    print(\"avg>c\")\n",
    "else:\n",
    "    print(\"No\")\n",
    "   \n",
    "   "
   ]
  },
  {
   "cell_type": "code",
   "execution_count": 4,
   "metadata": {},
   "outputs": [
    {
     "name": "stdout",
     "output_type": "stream",
     "text": [
      "Enter First Number: -8\n",
      "Its Over\n"
     ]
    }
   ],
   "source": [
    "\n",
    "#If user enters a negative number just break the loop and print “It’s Over”\n",
    "#If user enters a positive number just continue in the loop and print “Good Going”\n",
    "num = int(input(\"Enter First Number: \"))\n",
    "if num > 0:\n",
    "    for i in range(num):\n",
    "        print(\"Keep Going\")\n",
    "else:\n",
    "    for i in range(num,0):\n",
    "        print(\"Its Over\")\n",
    "        break\n",
    "       \n",
    "        \n",
    "      \n",
    "       "
   ]
  },
  {
   "cell_type": "code",
   "execution_count": 5,
   "metadata": {},
   "outputs": [
    {
     "name": "stdout",
     "output_type": "stream",
     "text": [
      "2002\n",
      "2009\n",
      "2016\n",
      "2023\n",
      "2037\n",
      "2044\n",
      "2051\n",
      "2058\n",
      "2072\n",
      "2079\n",
      "2086\n",
      "2093\n",
      "2107\n",
      "2114\n",
      "2121\n",
      "2128\n",
      "2142\n",
      "2149\n",
      "2156\n",
      "2163\n",
      "2177\n",
      "2184\n",
      "2191\n",
      "2198\n",
      "2212\n",
      "2219\n",
      "2226\n",
      "2233\n",
      "2247\n",
      "2254\n",
      "2261\n",
      "2268\n",
      "2282\n",
      "2289\n",
      "2296\n",
      "2303\n",
      "2317\n",
      "2324\n",
      "2331\n",
      "2338\n",
      "2352\n",
      "2359\n",
      "2366\n",
      "2373\n",
      "2387\n",
      "2394\n",
      "2401\n",
      "2408\n",
      "2422\n",
      "2429\n",
      "2436\n",
      "2443\n",
      "2457\n",
      "2464\n",
      "2471\n",
      "2478\n",
      "2492\n",
      "2499\n",
      "2506\n",
      "2513\n",
      "2527\n",
      "2534\n",
      "2541\n",
      "2548\n",
      "2562\n",
      "2569\n",
      "2576\n",
      "2583\n",
      "2597\n",
      "2604\n",
      "2611\n",
      "2618\n",
      "2632\n",
      "2639\n",
      "2646\n",
      "2653\n",
      "2667\n",
      "2674\n",
      "2681\n",
      "2688\n",
      "2702\n",
      "2709\n",
      "2716\n",
      "2723\n",
      "2737\n",
      "2744\n",
      "2751\n",
      "2758\n",
      "2772\n",
      "2779\n",
      "2786\n",
      "2793\n",
      "2807\n",
      "2814\n",
      "2821\n",
      "2828\n",
      "2842\n",
      "2849\n",
      "2856\n",
      "2863\n",
      "2877\n",
      "2884\n",
      "2891\n",
      "2898\n",
      "2912\n",
      "2919\n",
      "2926\n",
      "2933\n",
      "2947\n",
      "2954\n",
      "2961\n",
      "2968\n",
      "2982\n",
      "2989\n",
      "2996\n",
      "3003\n",
      "3017\n",
      "3024\n",
      "3031\n",
      "3038\n",
      "3052\n",
      "3059\n",
      "3066\n",
      "3073\n",
      "3087\n",
      "3094\n",
      "3101\n",
      "3108\n",
      "3122\n",
      "3129\n",
      "3136\n",
      "3143\n",
      "3157\n",
      "3164\n",
      "3171\n",
      "3178\n",
      "3192\n",
      "3199\n"
     ]
    }
   ],
   "source": [
    "#Write a program in Python which will find all such numbers which are divisible by 7 but are not a\n",
    "#multiple of 5, between 2000 and 3200.\n",
    "for i in range (2000,3200):\n",
    "    #print(\"3\")\n",
    "    if(i%7==0 and not(i%5==0)):\n",
    "        print(i)"
   ]
  },
  {
   "cell_type": "code",
   "execution_count": 6,
   "metadata": {},
   "outputs": [
    {
     "ename": "SyntaxError",
     "evalue": "'break' outside loop (<ipython-input-6-ede09a5f25d0>, line 9)",
     "output_type": "error",
     "traceback": [
      "\u001b[1;36m  File \u001b[1;32m\"<ipython-input-6-ede09a5f25d0>\"\u001b[1;36m, line \u001b[1;32m9\u001b[0m\n\u001b[1;31mSyntaxError\u001b[0m\u001b[1;31m:\u001b[0m 'break' outside loop\n"
     ]
    }
   ],
   "source": [
    "i = 0\n",
    "while i < 5:\n",
    "    print(i)\n",
    "i += 1\n",
    "if i == 3:\n",
    "    break\n",
    "else:\n",
    "    print(\"error\")\n"
   ]
  },
  {
   "cell_type": "code",
   "execution_count": null,
   "metadata": {},
   "outputs": [],
   "source": [
    "#   \"#What is the output of the following code examples?\\n\",\n",
    "  ##  \"#\\n\",\n",
    "   # \"x=123\\n\",\n",
    "   # \"for i in x:\\n\",\n",
    "   # \"    print(i)\"\n",
    "#  running above code gives as \"0\",\n",
    "     # \"0\",\n",
    "     # \"0\",................................\n",
    "# It also crashes the file because it is occupying lot of memory\n",
    "     "
   ]
  },
  {
   "cell_type": "code",
   "execution_count": 7,
   "metadata": {},
   "outputs": [
    {
     "name": "stdout",
     "output_type": "stream",
     "text": [
      "0\n",
      "1\n",
      "2\n",
      "3\n",
      "4\n"
     ]
    }
   ],
   "source": [
    "count = 0 \n",
    "while True:\n",
    "    print(count)\n",
    "    count += 1\n",
    "    if count >= 5:\n",
    "        break\n"
   ]
  },
  {
   "cell_type": "code",
   "execution_count": 8,
   "metadata": {},
   "outputs": [
    {
     "name": "stdout",
     "output_type": "stream",
     "text": [
      "0 1 2 4 5 "
     ]
    }
   ],
   "source": [
    "#Write a program that prints all the numbers from 0 to 6 except 3 and 6.\n",
    "\n",
    "for i in range(0,6):\n",
    "    if (i==3 or i==6):\n",
    "        continue\n",
    "    print(i, end= ' ')\n"
   ]
  },
  {
   "cell_type": "code",
   "execution_count": 9,
   "metadata": {},
   "outputs": [
    {
     "name": "stdout",
     "output_type": "stream",
     "text": [
      "User Input: hi 987jhy\n",
      "Letters 5\n",
      "Digits 3\n"
     ]
    }
   ],
   "source": [
    "#Write a program that accepts a string as an input from the user and calculate the number of digit and letters.\n",
    "User = input(\"User Input: \")\n",
    "d=0\n",
    "l=0\n",
    "\n",
    "for u in User:\n",
    "    if u.isdigit():\n",
    "        d=d+1\n",
    "    elif u.isalpha():\n",
    "        l=l+1\n",
    "    else:\n",
    "        pass\n",
    "\n",
    "print(\"Letters\", l)\n",
    "print(\"Digits\", d)\n"
   ]
  },
  {
   "cell_type": "code",
   "execution_count": 21,
   "metadata": {},
   "outputs": [
    {
     "name": "stdout",
     "output_type": "stream",
     "text": [
      "Guess: 87\n",
      "Sorry, that's not the lucky number!\n",
      "Guess: 45\n",
      "Sorry, that's not the lucky number!\n",
      "Guess: 5\n",
      "You guessed the lucky number!\n"
     ]
    }
   ],
   "source": [
    "lucky_number = 5\n",
    "while True:\n",
    "    number = int(input(\"Guess: \"))\n",
    "    if number == lucky_number:\n",
    "        print(\"You guessed the lucky number!\")\n",
    "        break\n",
    "    else:\n",
    "        print(\"Sorry, that's not the lucky number!\")\n"
   ]
  },
  {
   "cell_type": "code",
   "execution_count": 26,
   "metadata": {},
   "outputs": [
    {
     "name": "stdout",
     "output_type": "stream",
     "text": [
      "Guess: \n",
      "76\n",
      "Do you want to guess again? Enter yes/no:\n",
      " yes\n",
      "Guess: \n",
      "5\n",
      "You guessed the lucky number!\n"
     ]
    }
   ],
   "source": [
    "lucky_number = 5\n",
    "while True:\n",
    "    number = int(input(\"Guess: \\n\"))\n",
    "    if number == lucky_number:\n",
    "        print(\"You guessed the lucky number!\")\n",
    "        break\n",
    "    else:\n",
    "        answer = input(\"Do you want to guess again? Enter yes/no:\\n \")\n",
    "        if answer.lower() == \"no\":\n",
    "            print(\"Okay\")\n",
    "            break\n"
   ]
  },
  {
   "cell_type": "code",
   "execution_count": 28,
   "metadata": {},
   "outputs": [
    {
     "name": "stdout",
     "output_type": "stream",
     "text": [
      "Guess the number game: 234\n",
      "Try again!\n",
      "\n",
      "Guess the number game: 345\n",
      "Try again!\n",
      "\n",
      "Guess the number game: 435\n",
      "Try again!\n",
      "\n",
      "Guess the number game: 908\n",
      "Try again!\n",
      "\n",
      "Guess the number game: 5\n",
      "Good guess!\n",
      "\n",
      "Game over\n"
     ]
    }
   ],
   "source": [
    "#Write a program that asks five times to guess the lucky number. Use a while loop and a counter\n",
    "counter = 1\n",
    "lucky_number = 5\n",
    "\n",
    "while counter <= 5:\n",
    "    counter = counter + 1\n",
    "    user_input = int(input('Guess the number game: '))\n",
    "    if user_input == lucky_number:\n",
    "        print('Good guess!\\n')\n",
    "        \n",
    "    else:\n",
    "        print('Try again!\\n')\n",
    "print('Game over')\n"
   ]
  },
  {
   "cell_type": "code",
   "execution_count": null,
   "metadata": {},
   "outputs": [],
   "source": []
  }
 ],
 "metadata": {
  "kernelspec": {
   "display_name": "Python 3",
   "language": "python",
   "name": "python3"
  },
  "language_info": {
   "codemirror_mode": {
    "name": "ipython",
    "version": 3
   },
   "file_extension": ".py",
   "mimetype": "text/x-python",
   "name": "python",
   "nbconvert_exporter": "python",
   "pygments_lexer": "ipython3",
   "version": "3.7.4"
  }
 },
 "nbformat": 4,
 "nbformat_minor": 5
}
