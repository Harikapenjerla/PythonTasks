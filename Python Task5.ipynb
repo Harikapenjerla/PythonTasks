{
 "cells": [
  {
   "cell_type": "code",
   "execution_count": null,
   "metadata": {},
   "outputs": [],
   "source": [
    "#Write a program in Python to allow the error of syntax to be handled using exception handling.\n",
    "a = [4,25,68]\n",
    "try: \n",
    "    print (\"First number = %d\" %(a[0]))\n",
    "    print (\"Fourth element = %d\" %(a[5]))\n",
    "  \n",
    "except Syntax Error as sys:\n",
    "    print (sys)"
   ]
  },
  {
   "cell_type": "code",
   "execution_count": 14,
   "metadata": {},
   "outputs": [
    {
     "name": "stdout",
     "output_type": "stream",
     "text": [
      "File is not Found,Please enter correct file name?\n"
     ]
    }
   ],
   "source": [
    "#Write a program in Python to allow the user to open a file by using the argv module. If thentered name is incorrect throw an exception and ask them to enter the name again. Make sureto use read only mode.\n",
    "import sys\n",
    "try:\n",
    "    with open(sys.argv[1],'r') as PythonTask4.ipynb:\n",
    "        print(PythonTask4.ipynb.read())\n",
    "except FileNotFoundError:\n",
    "    print(\"File is not Found,Please enter correct file name?\")"
   ]
  },
  {
   "cell_type": "code",
   "execution_count": 18,
   "metadata": {},
   "outputs": [
    {
     "name": "stdout",
     "output_type": "stream",
     "text": [
      "Enter the 4-digit number:12345\n",
      "5\n",
      "The length is too short/long !!! Please provide only four digits\n"
     ]
    }
   ],
   "source": [
    "#Write a program to handle an error if the user entered a number more than four digits it should return “The length is too short/long !!! Please provide only four digits”\n",
    "num=input(\"Enter the 4-digit number:\")\n",
    "print(len(num))\n",
    "try:\n",
    "    if len(num)<4:\n",
    "        print(\"You have enter correct no of digit\")\n",
    "    elif len(num)>4:\n",
    "        raise Exception()\n",
    "except: \n",
    "        print(\"The length is too short/long !!! Please provide only four digits\")\n"
   ]
  },
  {
   "cell_type": "code",
   "execution_count": 23,
   "metadata": {},
   "outputs": [
    {
     "name": "stdout",
     "output_type": "stream",
     "text": [
      "Welcome! Enter your username: kiyhg\n",
      "Password:dfe\n",
      "You have entered wrong username and password!\n",
      "Enter you username again!mkoi\n",
      "Enter password:htf\n",
      "You have entered wrong username and password!\n",
      "Enter you username again!khg\n",
      "Enter password:tft\n",
      "You have try maximum login limit\n"
     ]
    }
   ],
   "source": [
    "#Create a login page backend to ask users to enter the username and password. Make sure to ask for a Re-Type Password and if the password is incorrect give chance to enter it again but it\n",
    "#should not be more than 3 times.\n",
    "\n",
    "user_name=\"krishna\"\n",
    "pass_word=\"Radha\"\n",
    "\n",
    "userName=input(\"Welcome! Enter your username: \")\n",
    "password=input(\"Password:\")\n",
    "\n",
    "count=0\n",
    "count+=1\n",
    "\n",
    "while userName==userName and password==password:\n",
    "    if count ==3:\n",
    "        print(\"You have try maximum login limit\")\n",
    "        break\n",
    "\n",
    "    elif userName==user_name and password==pass_word: \n",
    "        print(\"Welcome to my page!\")\n",
    "        break\n",
    "    \n",
    "    elif userName!=user_name and password!=pass_word:\n",
    "        print(\"You have entered wrong username and password!\")\n",
    "        userName=input(\"Enter you username again!\")\n",
    "        password=input(\"Enter password:\")\n",
    "        count+=1\n",
    "        continue\n",
    "\n",
    "    elif userName==user_name and password!=pass_word:\n",
    "        print(\"You have entered wrong password!\")\n",
    "        userName=input(\"Enter you username again!\")\n",
    "        password=input(\"Enter password:\")\n",
    "        count+=1\n",
    "        continue\n",
    "    elif userName!=user_name and password!=pass_word:\n",
    "        print(\"You have entered wrong username!\")\n",
    "        userName=input(\"Enter you username again!\")\n",
    "        password=input(\"Enter password:\")\n",
    "        count+=1\n",
    "        continue"
   ]
  },
  {
   "cell_type": "code",
   "execution_count": 37,
   "metadata": {},
   "outputs": [],
   "source": [
    "#Read doc.txt file using Python File handling concept and return only the even length string from the file. Consider the content of doc.txt as given below:\n",
    "#Hello I am a file\n",
    "#Where you need to return the data string\n",
    "#Which is of even length\n",
    "#Make sure you return the content in The same link as it is present.\n",
    "f=open('doc.txt','r')\n",
    "x=f.read()\n",
    "for w in x:\n",
    "    if(len(w)%2)==0:\n",
    "        print(\"True\")\n"
   ]
  },
  {
   "cell_type": "code",
   "execution_count": 30,
   "metadata": {},
   "outputs": [],
   "source": [
    "\n"
   ]
  },
  {
   "cell_type": "code",
   "execution_count": null,
   "metadata": {},
   "outputs": [],
   "source": []
  }
 ],
 "metadata": {
  "kernelspec": {
   "display_name": "Python 3",
   "language": "python",
   "name": "python3"
  },
  "language_info": {
   "codemirror_mode": {
    "name": "ipython",
    "version": 3
   },
   "file_extension": ".py",
   "mimetype": "text/x-python",
   "name": "python",
   "nbconvert_exporter": "python",
   "pygments_lexer": "ipython3",
   "version": "3.7.4"
  }
 },
 "nbformat": 4,
 "nbformat_minor": 2
}
