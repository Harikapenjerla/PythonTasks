{
 "cells": [
  {
   "cell_type": "code",
   "execution_count": 1,
   "metadata": {},
   "outputs": [
    {
     "name": "stdout",
     "output_type": "stream",
     "text": [
      "Assigning values of different datatypes\n",
      "4 <class 'int'> Krishna <class 'str'> 3.14 <class 'float'> True <class 'bool'>\n"
     ]
    }
   ],
   "source": [
    "# Create three variables in a single line and assign values to them in such a manner that each one of\n",
    "#them belongs to a different data type. \n",
    "\n",
    "print(\"Assigning values of different datatypes\")\n",
    "\n",
    "a, b, c, d = 4, \"Krishna\", 3.14, True\n",
    "print(a,type(a),b,type(b),c,type(c),d,type(d))\n"
   ]
  },
  {
   "cell_type": "code",
   "execution_count": 2,
   "metadata": {
    "scrolled": true
   },
   "outputs": [
    {
     "name": "stdout",
     "output_type": "stream",
     "text": [
      "Before Swapping:  , c= (5+2j) d= 5\n",
      "After Swapping:  , c= 5 d= (5+2j)\n"
     ]
    }
   ],
   "source": [
    "#Create a variable of type complex and swap it with another variable of type integer.\n",
    "c=5+2j\n",
    "d=5\n",
    "print(\"Before Swapping: \", \",\",\"c=\",c,\"d=\",d)\n",
    "temp = c\n",
    "c=d\n",
    "d=temp\n",
    "print(\"After Swapping: \", \",\",\"c=\",c,\"d=\",d)\n"
   ]
  },
  {
   "cell_type": "code",
   "execution_count": 3,
   "metadata": {},
   "outputs": [
    {
     "name": "stdout",
     "output_type": "stream",
     "text": [
      "Enter value of x: 3\n",
      "Enter value of y: 4\n",
      "The value of a after swapping 4\n",
      "The value of b after swapping 3\n",
      "Before Swapping: c= (5+2j) , d= 5\n",
      "After Swapping: c= 5 , d= (5+2j)\n"
     ]
    }
   ],
   "source": [
    "#Swap two numbers using a third variable and do the same task without using any third variable.\n",
    "##Third Variable\n",
    "#  inputs from the user \n",
    "a = input('Enter value of x: ')\n",
    "b = input('Enter value of y: ')\n",
    "\n",
    "# create a temporary variable and swap the values\n",
    "temp = a\n",
    "a = b\n",
    "b = temp\n",
    "\n",
    "print(\"The value of a after swapping\",a)\n",
    "print(\"The value of b after swapping\",b)\n",
    "\n",
    "##Without Third Variable\n",
    "c=5+2j\n",
    "d=5\n",
    "print(\"Before Swapping:\",\"c=\", c,\",\",\"d=\",d)\n",
    "c,d =d,c\n",
    "print(\"After Swapping:\",\"c=\", c,\",\",\"d=\",d)"
   ]
  },
  {
   "cell_type": "code",
   "execution_count": 4,
   "metadata": {},
   "outputs": [
    {
     "name": "stdout",
     "output_type": "stream",
     "text": [
      "User Input: hello\n",
      "hello\n"
     ]
    }
   ],
   "source": [
    "#Write a program that takes input from the user and prints it using both Python 2.x and Python 3.x\n",
    "#Version.\n",
    "#Python2 = raw_input(\"User Input: \") #python2\n",
    "Python3 = input(\"User Input: \") #Python3\n",
    "print(Python3)"
   ]
  },
  {
   "cell_type": "code",
   "execution_count": 5,
   "metadata": {},
   "outputs": [
    {
     "name": "stdout",
     "output_type": "stream",
     "text": [
      "Enter value of a between 1-10: 5\n",
      "Enter value of b between 1-10: 3\n",
      "38\n"
     ]
    }
   ],
   "source": [
    "#Write a program to complete the task given below:\n",
    "#Ask users to enter any 2 numbers in between 1-10 , add the two numbers and keep the sum in\n",
    "#another variable called z. Add 30 to z and store the output in variable result and print result as the\n",
    "#final output.\n",
    "\n",
    "a = int(input('Enter value of a between 1-10: '))\n",
    "b = int(input('Enter value of b between 1-10: '))\n",
    "Z= int(a+b)\n",
    "result = int(Z+30)\n",
    "print(result)"
   ]
  },
  {
   "cell_type": "code",
   "execution_count": 6,
   "metadata": {},
   "outputs": [
    {
     "name": "stdout",
     "output_type": "stream",
     "text": [
      "Enter value of a: 2\n",
      "2 <class 'int'>\n"
     ]
    }
   ],
   "source": [
    "#Write a program to check the data type of the entered values.\n",
    "try:\n",
    "    a = input('Enter value of a: ')\n",
    "    print(a,type(eval((a))))\n",
    "except:\n",
    "    print (a,\"String\")"
   ]
  },
  {
   "cell_type": "code",
   "execution_count": 23,
   "metadata": {},
   "outputs": [
    {
     "name": "stdout",
     "output_type": "stream",
     "text": [
      "helloWorld HelloWorld hello_world_ HELLO WORLD\n",
      " hi\n",
      "UpperCase: HI LowerCamelCase: helloWorld UpperCamelCase: HelloWorld SnakeCase: hello_world_\n"
     ]
    }
   ],
   "source": [
    "#Create Variables using formats such as Upper CamelCase, Lower CamelCase, SnakeCase and\n",
    "#UPPERCASE.\n",
    "#Given INput \n",
    "inputgiven  = \"hello world\"\n",
    "lowercamelcase = \"helloWorld\"\n",
    "uppercamelCase = \"HelloWorld\"                                                                \n",
    "snake_case = \"hello_world_\"\n",
    "Upper_Case = \"HELLO WORLD\"\n",
    "\n",
    "print(lowercamelcase, uppercamelCase, snake_case, Upper_Case)\n",
    "\n",
    "#Using functions\n",
    "\n",
    "I  = input(\" \")\n",
    "def camel(u):   \n",
    "    u = \"\".join(word.title().split())\n",
    "    return ''.join([u[0].lower(), u[1:]])\n",
    "\n",
    "def camel_upper(u):\n",
    "    u = \"\".join(word.title().split())\n",
    "    return ''.join([u[0].upper(), u[1:]])\n",
    "\n",
    "def to_snake_case(u):\n",
    "    return \"_\".join(u.lower().split())\n",
    "\n",
    "\n",
    "\n",
    "print(\"UpperCase:\",I.upper(),\"LowerCamelCase:\",lowercamelcase,\"UpperCamelCase:\",uppercamelCase, \"SnakeCase:\",snake_case)"
   ]
  },
  {
   "cell_type": "code",
   "execution_count": 7,
   "metadata": {},
   "outputs": [
    {
     "name": "stdout",
     "output_type": "stream",
     "text": [
      "2\n"
     ]
    }
   ],
   "source": [
    "#If datatype value assigned to variable and then differnt type value to same variable\n",
    "a= \"Krishna\"\n",
    "a=2\n",
    "print(a)\n",
    "\n",
    "#When we re-assign different datatype value memory location will change too\n",
    "#Because execution is prodecure programming type which means step by step (line by line) and updates the values last assigned "
   ]
  },
  {
   "cell_type": "code",
   "execution_count": null,
   "metadata": {},
   "outputs": [],
   "source": []
  }
 ],
 "metadata": {
  "kernelspec": {
   "display_name": "Python 3",
   "language": "python",
   "name": "python3"
  },
  "language_info": {
   "codemirror_mode": {
    "name": "ipython",
    "version": 3
   },
   "file_extension": ".py",
   "mimetype": "text/x-python",
   "name": "python",
   "nbconvert_exporter": "python",
   "pygments_lexer": "ipython3",
   "version": "3.7.4"
  }
 },
 "nbformat": 4,
 "nbformat_minor": 5
}
